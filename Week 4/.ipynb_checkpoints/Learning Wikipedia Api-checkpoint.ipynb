{
 "cells": [
  {
   "cell_type": "markdown",
   "metadata": {},
   "source": [
    "## Import / Install Wikipedia library"
   ]
  },
  {
   "cell_type": "code",
   "execution_count": 51,
   "metadata": {},
   "outputs": [
    {
     "name": "stdout",
     "output_type": "stream",
     "text": [
      "Libaries Imported.\n"
     ]
    }
   ],
   "source": [
    "#!pip install wikipedia\n",
    "import wikipedia as wiki\n",
    "import pandas as pd\n",
    "\n",
    "print('Libaries Imported.')"
   ]
  },
  {
   "cell_type": "markdown",
   "metadata": {},
   "source": [
    "## Search for Something"
   ]
  },
  {
   "cell_type": "code",
   "execution_count": 7,
   "metadata": {},
   "outputs": [
    {
     "name": "stdout",
     "output_type": "stream",
     "text": [
      "['Python (programming language)', 'Python', 'Monty Python', 'Ball python', 'PYTHON', 'Burmese python', 'Reticulated python', 'History of Python', 'Python molurus', 'Monty Python and the Holy Grail']\n"
     ]
    }
   ],
   "source": [
    "search = wiki.search(\"Python\")\n",
    "\n",
    "print(search)"
   ]
  },
  {
   "cell_type": "markdown",
   "metadata": {},
   "source": [
    "### Get limited Results"
   ]
  },
  {
   "cell_type": "code",
   "execution_count": 8,
   "metadata": {},
   "outputs": [
    {
     "name": "stdout",
     "output_type": "stream",
     "text": [
      "['Python (programming language)', 'Python', 'Monty Python']\n"
     ]
    }
   ],
   "source": [
    "search = wiki.search(\"Python\", results = 3)\n",
    "\n",
    "print(search)\n"
   ]
  },
  {
   "cell_type": "markdown",
   "metadata": {},
   "source": [
    "## Suggest Search Term"
   ]
  },
  {
   "cell_type": "code",
   "execution_count": 12,
   "metadata": {},
   "outputs": [
    {
     "name": "stdout",
     "output_type": "stream",
     "text": [
      "google\n"
     ]
    }
   ],
   "source": [
    "suggest = wiki.suggest(\"ggle\") #wrong search term but suggests what it could be.\n",
    "\n",
    "print(suggest)"
   ]
  },
  {
   "cell_type": "markdown",
   "metadata": {},
   "source": [
    "## Extracting Wikipedia Article Summary"
   ]
  },
  {
   "cell_type": "code",
   "execution_count": 40,
   "metadata": {},
   "outputs": [
    {
     "name": "stdout",
     "output_type": "stream",
     "text": [
      ".\n",
      "Delhi is a vast city and is home to a population of more than 16 million people. It is a microcosm of India and its residents belong to varied ethnic, religious and linguistic groups. As the second-largest city, and the capital of the nation, its 11 districts comprise multiple neighbourhoods. The large expanse of the city comprises residential districts that range from poor to affluent, and small and large commercial districts, across its municipal extent. This is a list of major neighbourhoods in the city and only pertains to the National Capital Territory of Delhi. It is not complete, and outlines the various neighbourhoods based on the different districts of the metropolis.\n"
     ]
    }
   ],
   "source": [
    "term = \"Neighbourhoods_of_Delhi\"\n",
    "summary = wiki.summary(term)\n",
    "print(summary)"
   ]
  },
  {
   "cell_type": "markdown",
   "metadata": {},
   "source": [
    "### Extracting Wikipedia Article Summary - Limited Sentences"
   ]
  },
  {
   "cell_type": "code",
   "execution_count": 41,
   "metadata": {},
   "outputs": [
    {
     "name": "stdout",
     "output_type": "stream",
     "text": [
      ".\n",
      "Delhi is a vast city and is home to a population of more than 16 million people. It is a microcosm of India and its residents belong to varied ethnic, religious and linguistic groups.\n"
     ]
    }
   ],
   "source": [
    "summary = wiki.summary(term , sentences = 2)\n",
    "print(summary)"
   ]
  },
  {
   "cell_type": "markdown",
   "metadata": {},
   "source": [
    "## Retrieving Full Wikipedia Page Data"
   ]
  },
  {
   "cell_type": "code",
   "execution_count": 42,
   "metadata": {},
   "outputs": [
    {
     "data": {
      "text/plain": [
       "<WikipediaPage 'Neighbourhoods of Delhi'>"
      ]
     },
     "execution_count": 42,
     "metadata": {},
     "output_type": "execute_result"
    }
   ],
   "source": [
    "wiki.page(term)"
   ]
  },
  {
   "cell_type": "markdown",
   "metadata": {},
   "source": [
    "To get the complete plain text content of a Wikipedia page (excluding images, tables, etc.), we can use the content attribute of the page object."
   ]
  },
  {
   "cell_type": "code",
   "execution_count": 43,
   "metadata": {},
   "outputs": [
    {
     "name": "stdout",
     "output_type": "stream",
     "text": [
      ".\n",
      "Delhi is a vast city and is home to a population of more than 16 million people. It is a microcosm of India and its residents belong to varied ethnic, religious and linguistic groups. As the second-largest city, and the capital of the nation, its 11 districts comprise multiple neighbourhoods. The large expanse of the city comprises residential districts that range from poor to affluent, and small and large commercial districts, across its municipal extent. This is a list of major neighbourhoods in the city and only pertains to the National Capital Territory of Delhi. It is not complete, and outlines the various neighbourhoods based on the different districts of the metropolis.\n",
      "\n",
      "\n",
      "== North West Delhi ==\n",
      "Adarsh Nagar\n",
      "Ashok Vihar\n",
      "Begum Pur\n",
      "Karala\n",
      "Model Town\n",
      "Narela\n",
      "Pitam Pura\n",
      "Rohini Sub City\n",
      "Shalimar Bagh\n",
      "\n",
      "\n",
      "== North Delhi ==\n",
      "Civil Lines\n",
      "Gulabi Bagh\n",
      "Kamla Nagar\n",
      "Kashmiri Gate\n",
      "Kotwali\n",
      "Mori Gate; Delhi\n",
      "Sadar Bazaar\n",
      "Sarai Rohilla\n",
      "Shakti Nagar\n",
      "Shastri Nagar.\n",
      "Tis Hazari\n",
      "Timarpur\n",
      "Wazirabad\n",
      "\n",
      "\n",
      "== North East Delhi ==\n",
      "Dilshad Garden\n",
      "Naveen Shahdara\n",
      "New Usmanpur\n",
      "Shahdara\n",
      "Shastri Park\n",
      "Yamuna Vihar\n",
      "\n",
      "\n",
      "== Central Delhi ==\n",
      "Chandni Chowk\n",
      "Daryaganj\n",
      "Jhandewalan\n",
      "Karol Bagh\n",
      "Kishanganj\n",
      "Paharganj\n",
      "Rajender Nagar\n",
      "\n",
      "\n",
      "== New Delhi ==\n",
      "Barakhamba Road\n",
      "Chanakyapuri\n",
      "Connaught PlaceGole Market\n",
      "INA ColonyLaxmibai Nagar\n",
      "Pragati Maidan\n",
      "\n",
      "\n",
      "== East Delhi ==\n",
      "East Vinod Nagar\n",
      "Jhilmil Colony\n",
      "Laxmi Nagar\n",
      "Mayur Vihar\n",
      "Pandav Nagar\n",
      "Preet Vihar\n",
      "Anand Vihar\n",
      "Vasundhara Enclave\n",
      "Vishwas Nagar\n",
      "Vivek Vihar\n",
      "\n",
      "\n",
      "== South Delhi ==\n",
      "Alaknanda\n",
      "Chittaranjan Park\n",
      "Defence Colony\n",
      "East of Kailash\n",
      "Govindpuri\n",
      "Greater Kailash\n",
      "Green Park\n",
      "Gulmohar Park\n",
      "Hauz Khas\n",
      "Hauz Khas Village\n",
      "Jangpura\n",
      "Jor Bagh\n",
      "Kalkaji\n",
      "Khanpur\n",
      "Lajpat Nagar\n",
      "Lodi Colony\n",
      "Malviya Nagar\n",
      "Mehrauli\n",
      "Neeti Bagh\n",
      "Nehru Place\n",
      "Netaji Nagar\n",
      "New Friends Colony\n",
      "Nizamuddin West\n",
      "Okhla\n",
      "Safdarjung Enclave\n",
      "Sainik Farm\n",
      "Saket\n",
      "Sangam Vihar\n",
      "Sarita Vihar\n",
      "Sarojini Nagar\n",
      "Sarvodaya Enclave\n",
      "Siri Fort\n",
      "South Extension\n",
      "Sriniwaspuri\n",
      "Sundar Nagar\n",
      "Tughlaqabad\n",
      "Badarpur\n",
      "\n",
      "\n",
      "== South West Delhi ==\n",
      "Dabri, New Delhi\n",
      "Dwarka Sub City\n",
      "Delhi Cantonment\n",
      "Dhaula Kuan\n",
      "Inderpuri\n",
      "Mahipalpur\n",
      "Moti Bagh\n",
      "Munirka\n",
      "Najafgarh\n",
      "Naraina\n",
      "Palam\n",
      "Rama Krishna Puram\n",
      "Sagar Pur\n",
      "Vasant Kunj\n",
      "Vasant Vihar\n",
      "\n",
      "\n",
      "== West Delhi ==\n",
      "Ashok Nagar\n",
      "Bali Nagar\n",
      "Fateh Nagar\n",
      "Kirti Nagar\n",
      "Moti Nagar\n",
      "Paschim Vihar\n",
      "Patel Nagar\n",
      "Punjabi Bagh\n",
      "Rajouri Garden\n",
      "Tihar Village\n",
      "Tilak Nagar\n",
      "Vikas Nagar\n",
      "Vikaspuri\n",
      "\n",
      "\n",
      "== See also ==\n",
      "Indira Gandhi International Airport\n",
      "New Delhi Railway Station\n",
      "Hazrat Nizamuddin Railway Station\n",
      "Old Delhi Railway Station\n",
      "Kashmere Gate\n",
      "Gurugram\n",
      "Ghaziabad\n",
      "Noida\n",
      "Faridabad\n",
      "Sonipat\n",
      "\n",
      "\n",
      "== References ==\n",
      "\n",
      "\n",
      "== External links ==\n",
      "Govt. of New Delhi \n",
      "\"Urban agglomerations/cities having population 1 million and above\" (PDF). Provisional population totals, census of India 2011. Registrar General & Census Commissioner, India. 2011. Retrieved 26 January 2012.\n"
     ]
    }
   ],
   "source": [
    "content = wiki.page(term).content\n",
    "\n",
    "print(content)"
   ]
  },
  {
   "cell_type": "markdown",
   "metadata": {},
   "source": [
    "## Get URL of a page"
   ]
  },
  {
   "cell_type": "code",
   "execution_count": 44,
   "metadata": {},
   "outputs": [
    {
     "name": "stdout",
     "output_type": "stream",
     "text": [
      "https://en.wikipedia.org/wiki/Neighbourhoods_of_Delhi\n"
     ]
    }
   ],
   "source": [
    "url = wiki.page(term).url\n",
    "\n",
    "print(url)"
   ]
  },
  {
   "cell_type": "markdown",
   "metadata": {},
   "source": [
    "We can get the URLs of external links on a Wikipedia page by using the references property of the WikipediaPage object."
   ]
  },
  {
   "cell_type": "code",
   "execution_count": 45,
   "metadata": {},
   "outputs": [
    {
     "name": "stdout",
     "output_type": "stream",
     "text": [
      "['http://www.hindustantimes.com/India-news/NewDelhi/Colony-that-abuts-wonders-of-history/Article1-1109246.aspx', 'https://archive.is/20130818045201/http://www.hindustantimes.com/India-news/NewDelhi/Colony-that-abuts-wonders-of-history/Article1-1109246.aspx', 'https://web.archive.org/web/20100919175447/http://delhigovt.nic.in/']\n"
     ]
    }
   ],
   "source": [
    "references = wiki.page(term).references\n",
    "\n",
    "print(references)"
   ]
  },
  {
   "cell_type": "markdown",
   "metadata": {},
   "source": [
    "## Get TITLE of the page."
   ]
  },
  {
   "cell_type": "code",
   "execution_count": 46,
   "metadata": {},
   "outputs": [
    {
     "name": "stdout",
     "output_type": "stream",
     "text": [
      "Neighbourhoods of Delhi\n"
     ]
    }
   ],
   "source": [
    "title = wiki.page(term).title\n",
    "\n",
    "print(title)"
   ]
  },
  {
   "cell_type": "markdown",
   "metadata": {},
   "source": [
    "### Similarly, the categories attribute can be used to get the list of categories of a Wikipedia page:"
   ]
  },
  {
   "cell_type": "code",
   "execution_count": 47,
   "metadata": {},
   "outputs": [
    {
     "name": "stdout",
     "output_type": "stream",
     "text": [
      "['All Wikipedia articles written in Indian English', 'Commons category link is on Wikidata', 'Lists of neighbourhoods in Indian cities', 'Neighbourhoods in Delhi', 'Use Indian English from January 2016', 'Use dmy dates from December 2018']\n"
     ]
    }
   ],
   "source": [
    "categories = wiki.page(term).categories\n",
    "\n",
    "print(categories)"
   ]
  },
  {
   "cell_type": "markdown",
   "metadata": {},
   "source": [
    "## The links element of the WikipediaPage object can be used to <br> get the list of titles of the pages whose links are present in the page."
   ]
  },
  {
   "cell_type": "code",
   "execution_count": 48,
   "metadata": {},
   "outputs": [
    {
     "name": "stdout",
     "output_type": "stream",
     "text": [
      "['1951 Asian Games', '1982 Asian Games', '1987 Cricket World Cup', '1989 Asian Athletics Championships', '1996 Cricket World Cup', '2010 Commonwealth Games', \"2010 Men's Hockey World Cup\", '2011 Cricket World Cup', 'Adarsh Nagar', 'Agrasen Ki Baoli', 'Amar Jawan Jyoti', 'Anand Vihar', 'Anand Vihar Terminal railway station', 'Architecture of Delhi', 'Arun Jaitley Stadium', 'Ashok Nagar (Delhi)', 'Ashok Vihar', 'Ashokan Edicts in Delhi', 'Ashram Chowk', 'Badarpur, Delhi', 'Bahadur Shah Zafar', 'Bali Nagar', 'Bara Gumbad', 'Barakhamba', 'Barakhamba Road', 'Begum Pur', 'Ber Sarai', 'British East India Company', 'British Raj', 'Central Delhi', 'Central Delhi district', 'Chahamanas of Shakambhari', 'Chanakyapuri', 'Chandni Chowk', 'Chausath Khamba', 'Chawri Bazar', 'Chhatarpur Temple', 'Chhatrasal Stadium', 'Chittaranjan Park', 'Chor Minar', 'Civil Lines, Delhi', 'Connaught Place, New Delhi', 'Coronation Park, Delhi', 'Dabang Delhi', 'Dabri, New Delhi', 'Daryaganj', 'Dayanand Colony', 'Defence Colony', 'Delhi', 'Delhi Bus Rapid Transit System', 'Delhi Cantonment', 'Delhi Capitals', 'Delhi Commission for Women', 'Delhi Defenders', 'Delhi Development Authority', 'Delhi Dynamos FC', 'Delhi Giants', 'Delhi Half Marathon', 'Delhi High Court', 'Delhi Junction railway station', 'Delhi Legislative Assembly', 'Delhi Light Rail Transit', 'Delhi Metro', 'Delhi Monorail', 'Delhi Queer Pride Parade', 'Delhi Sarai Rohilla railway station', 'Delhi Smashers', 'Delhi Stock Exchange', 'Delhi Suburban Railway', 'Delhi Sultanate', 'Delhi Transport Corporation', 'Delhi United S.C.', 'Delhi University Stadium', 'Delhi Waveriders', 'Delhi Wizards', 'Delhi cricket team', 'Delhi division', 'Delhi football team', 'Derawal Nagar', 'Dhaula Kuan', 'Dilli Haat', 'Dilshad Garden', 'District Centres of Delhi', 'Districts of Delhi', 'Dr. Ambedkar Stadium (New Delhi)', 'Dr. Karni Singh Shooting Range', 'Dwarka, Delhi', 'Dwarka Sub City', 'East Delhi', 'East Delhi district', 'East Vinod Nagar', 'Economy of Delhi', 'Education in Delhi', 'Faridabad', 'Fateh Nagar', 'Gandhi Nagar, Delhi', 'Garhwal F.C.', 'Gates of Delhi', 'Geetanjali Enclave', 'Ghaziabad', 'Ghaziabad, India', 'Gole Market', 'Government of Delhi', 'Govindpuri', 'Greater Kailash', 'Greater Noida', 'Green Park, Delhi', 'Gulabi Bagh', 'Gulmohar Park', 'Gurgaon', 'Gurugram', 'Hanuman Temple, Connaught Place', 'Harbax Singh Stadium', 'Hastinapur', 'Hauz-i-Shamsi', 'Hauz Khas', 'Hauz Khas Complex', 'Hazrat Nizamuddin Railway Station', 'Hazrat Nizamuddin railway station', 'Hijron Ka Khanqah', 'Hindon Airport', 'Hindustan F.C.', 'History of Delhi', \"Humayun's Tomb\", 'INA Colony', 'ISKCON Temple Delhi', 'Independence Day (India)', 'Inder Puri', 'India Gate', 'Indian Rebellion of 1857', 'Indian independence movement', 'Indira Gandhi Arena', 'Indira Gandhi International Airport', 'Indirapuram', 'Indraprastha', 'Inter State Bus Terminals', 'Jahanpanah', 'Jahaz Mahal', 'Jama Masjid, Delhi', 'Jamali Kamali Mosque and Tomb', 'Jamia Millia Islamia University Ground', 'Janakpuri', 'Jangpura', 'Jantar Mantar, New Delhi', 'Jawaharlal Nehru Stadium (Delhi)', 'Jewar Airport', 'Jhilmil Colony', 'Kailash Colony', 'Kalkaji', 'Kamla Nagar', 'Kamla Nagar, New Delhi', 'Kapasheda Border, Delhi', 'Karala, Delhi', 'Karnail Singh Stadium', 'Karol Bagh', 'Kashmiri Gate, Delhi', 'Kashmiri Gate (Delhi)', 'Khalji dynasty', 'Khanpur, Delhi', 'Khari Baoli', 'Khirki Mosque', 'Kirti Nagar', 'Kotla Mubarakpur', 'Kotwali', 'Lajpat Nagar', 'Laxmi Nagar (Delhi)', 'Laxmibai Nagar', 'List of chief ministers of Delhi', 'List of cinemas in Delhi', 'List of cities in India by population', 'List of districts of Delhi', 'List of lieutenant governors of Delhi', 'List of parks in Delhi', 'List of tourist attractions in Delhi', 'Lodi Colony', 'Lodi dynasty', 'Lotus Temple', \"Lutyens' Delhi\", 'Major Dhyan Chand National Stadium', 'Malviya Nagar (Delhi)', 'Mamluk dynasty (Delhi)', 'Maratha Empire', 'Mayapuri', 'Mayur Vihar', 'Meera Bagh', 'Mehrauli', 'Metcalfe House', 'Model Town (Delhi)', 'Mori Gate; Delhi', 'Moth ki Masjid', 'Moti Bagh', 'Moti Nagar (New Delhi)', 'Mughal Empire', 'Municipal Corporation of Delhi', 'Munirka', 'Muslim conquests in the Indian subcontinent', 'Najafgarh', 'Nangloi Jat', 'Naraina', 'Narela', 'National Capital Region (India)', 'National Capital Territory of Delhi', 'National Police Memorial (India)', 'National War Memorial (India)', 'Naveen Shahdara', 'Nehru Cup', 'Nehru Place', 'Netaji Nagar, Delhi', 'New Delhi', 'New Delhi Heroes F.C.', 'New Delhi Municipal Council', 'New Delhi Railway Station', 'New Delhi district', 'New Delhi railway station', 'New Friends Colony', 'New Moti Bagh', 'Nizamuddin Dargah', 'Nizamuddin East', 'Nizamuddin West', 'Noida', 'North Delhi', 'North Delhi district', 'North East Delhi', 'North East Delhi district', 'North West Delhi', 'North West Delhi district', 'Okhla', 'Old Delhi', 'Old Delhi Railway Station', 'Paharganj', 'Palam', 'Palika Bazaar', 'Pandav Nagar', 'Parliament of India', 'Partition of India', 'Paschim Vihar', 'Patel Nagar', 'Patparganj', 'Pitam Pura', 'Pragati Maidan', 'Preet Vihar', 'Prithviraj Raso', 'Punjabi Bagh', 'Punjabi cuisine', 'Purana Qila', 'Qutb Minar complex', 'Raisina Hill', 'Raj Ghat and associated memorials', 'Rajender Nagar', 'Rajendra Nagar, Delhi', 'Rajouri Garden', 'Rajpath', 'Rama Krishna Puram', 'Ramlila Maidan', 'Rashtrapati Bhavan', 'Red Fort', 'Republic Day (India)', 'Rohini, Delhi', 'Rohini Sub City', 'SPM Swimming Pool Complex', 'Sadar Bazaar, Delhi', 'Safdarjung (Delhi)', 'Safdarjung Airport', 'Safdarjung Enclave', 'Sagar Pur', 'Sainik Farm', 'Saket (Delhi)', 'Salimgarh Fort', 'Sangam Vihar', 'Sarai Rohilla', 'Sarita Vihar', 'Sarojini Nagar', 'Sarvodaya Enclave', 'Sayyid dynasty', 'Shahdara', 'Shahdara district', 'Shahpur Jat', 'Shakti Nagar, Delhi', 'Shalimar Bagh, Delhi', 'Shastri Nagar (Delhi)', 'Shastri Park', 'Sher Shah Suri', 'Shish Gumbad', 'Shiv Ram Park', 'Shivaji Place', 'Shopping in Delhi', 'Simla Youngs F.C.', 'Siri Fort', 'Siri Fort Sports Complex', 'Sonipat', 'South Delhi', 'South Delhi district', 'South East Delhi district', 'South Extension', 'South West Delhi', 'South West Delhi district', 'Sport in Delhi', 'Sriniwaspuri', 'Sultan Ghari', 'Sundar Nagar, Delhi', 'Sunder Nursery', 'Swaminarayan Akshardham (New Delhi)', 'Talkatora Stadium', 'Teen Murti Bhavan', 'Thyagaraj Sports Complex', 'Tihar Village', 'Tilak Nagar (Delhi)', 'Timarpur', 'Timeline of Delhi', 'Tis Hazari', 'Tomara dynasty', 'Tomb of Isa Khan', 'Tomb of Safdar Jang', 'Tourism in Delhi', 'Transport in Delhi', 'Tughlaq dynasty', 'Tughlaqabad', 'Urdu Bazaar', 'Vasant Kunj', 'Vasant Vihar', 'Vasant Vihar, Delhi', 'Vasundhara Enclave', 'Viceroy of India', 'Vijay Chowk', 'Vikaspuri', 'Wazirabad, Delhi', 'West Delhi', 'West Delhi district', 'West Patel Nagar', 'Yamuna Sports Complex', 'Yamuna Vihar', 'Yogmaya Temple'] Neighbourhoods_of_Delhi\n"
     ]
    }
   ],
   "source": [
    "links = wiki.page(term).links\n",
    "print(links, term)"
   ]
  },
  {
   "cell_type": "code",
   "execution_count": 52,
   "metadata": {},
   "outputs": [],
   "source": [
    "df = pd.DataFrame(links)"
   ]
  },
  {
   "cell_type": "code",
   "execution_count": 56,
   "metadata": {},
   "outputs": [
    {
     "name": "stdout",
     "output_type": "stream",
     "text": [
      "                                               0\n",
      "0    1951 Asian Games                           \n",
      "1    1982 Asian Games                           \n",
      "2    1987 Cricket World Cup                     \n",
      "3    1989 Asian Athletics Championships         \n",
      "4    1996 Cricket World Cup                     \n",
      "5    2010 Commonwealth Games                    \n",
      "6    2010 Men's Hockey World Cup                \n",
      "7    2011 Cricket World Cup                     \n",
      "8    Adarsh Nagar                               \n",
      "9    Agrasen Ki Baoli                           \n",
      "10   Amar Jawan Jyoti                           \n",
      "11   Anand Vihar                                \n",
      "12   Anand Vihar Terminal railway station       \n",
      "13   Architecture of Delhi                      \n",
      "14   Arun Jaitley Stadium                       \n",
      "15   Ashok Nagar (Delhi)                        \n",
      "16   Ashok Vihar                                \n",
      "17   Ashokan Edicts in Delhi                    \n",
      "18   Ashram Chowk                               \n",
      "19   Badarpur, Delhi                            \n",
      "20   Bahadur Shah Zafar                         \n",
      "21   Bali Nagar                                 \n",
      "22   Bara Gumbad                                \n",
      "23   Barakhamba                                 \n",
      "24   Barakhamba Road                            \n",
      "25   Begum Pur                                  \n",
      "26   Ber Sarai                                  \n",
      "27   British East India Company                 \n",
      "28   British Raj                                \n",
      "29   Central Delhi                              \n",
      "30   Central Delhi district                     \n",
      "31   Chahamanas of Shakambhari                  \n",
      "32   Chanakyapuri                               \n",
      "33   Chandni Chowk                              \n",
      "34   Chausath Khamba                            \n",
      "35   Chawri Bazar                               \n",
      "36   Chhatarpur Temple                          \n",
      "37   Chhatrasal Stadium                         \n",
      "38   Chittaranjan Park                          \n",
      "39   Chor Minar                                 \n",
      "40   Civil Lines, Delhi                         \n",
      "41   Connaught Place, New Delhi                 \n",
      "42   Coronation Park, Delhi                     \n",
      "43   Dabang Delhi                               \n",
      "44   Dabri, New Delhi                           \n",
      "45   Daryaganj                                  \n",
      "46   Dayanand Colony                            \n",
      "47   Defence Colony                             \n",
      "48   Delhi                                      \n",
      "49   Delhi Bus Rapid Transit System             \n",
      "50   Delhi Cantonment                           \n",
      "51   Delhi Capitals                             \n",
      "52   Delhi Commission for Women                 \n",
      "53   Delhi Defenders                            \n",
      "54   Delhi Development Authority                \n",
      "55   Delhi Dynamos FC                           \n",
      "56   Delhi Giants                               \n",
      "57   Delhi Half Marathon                        \n",
      "58   Delhi High Court                           \n",
      "59   Delhi Junction railway station             \n",
      "60   Delhi Legislative Assembly                 \n",
      "61   Delhi Light Rail Transit                   \n",
      "62   Delhi Metro                                \n",
      "63   Delhi Monorail                             \n",
      "64   Delhi Queer Pride Parade                   \n",
      "65   Delhi Sarai Rohilla railway station        \n",
      "66   Delhi Smashers                             \n",
      "67   Delhi Stock Exchange                       \n",
      "68   Delhi Suburban Railway                     \n",
      "69   Delhi Sultanate                            \n",
      "70   Delhi Transport Corporation                \n",
      "71   Delhi United S.C.                          \n",
      "72   Delhi University Stadium                   \n",
      "73   Delhi Waveriders                           \n",
      "74   Delhi Wizards                              \n",
      "75   Delhi cricket team                         \n",
      "76   Delhi division                             \n",
      "77   Delhi football team                        \n",
      "78   Derawal Nagar                              \n",
      "79   Dhaula Kuan                                \n",
      "80   Dilli Haat                                 \n",
      "81   Dilshad Garden                             \n",
      "82   District Centres of Delhi                  \n",
      "83   Districts of Delhi                         \n",
      "84   Dr. Ambedkar Stadium (New Delhi)           \n",
      "85   Dr. Karni Singh Shooting Range             \n",
      "86   Dwarka, Delhi                              \n",
      "87   Dwarka Sub City                            \n",
      "88   East Delhi                                 \n",
      "89   East Delhi district                        \n",
      "90   East Vinod Nagar                           \n",
      "91   Economy of Delhi                           \n",
      "92   Education in Delhi                         \n",
      "93   Faridabad                                  \n",
      "94   Fateh Nagar                                \n",
      "95   Gandhi Nagar, Delhi                        \n",
      "96   Garhwal F.C.                               \n",
      "97   Gates of Delhi                             \n",
      "98   Geetanjali Enclave                         \n",
      "99   Ghaziabad                                  \n",
      "100  Ghaziabad, India                           \n",
      "101  Gole Market                                \n",
      "102  Government of Delhi                        \n",
      "103  Govindpuri                                 \n",
      "104  Greater Kailash                            \n",
      "105  Greater Noida                              \n",
      "106  Green Park, Delhi                          \n",
      "107  Gulabi Bagh                                \n",
      "108  Gulmohar Park                              \n",
      "109  Gurgaon                                    \n",
      "110  Gurugram                                   \n",
      "111  Hanuman Temple, Connaught Place            \n",
      "112  Harbax Singh Stadium                       \n",
      "113  Hastinapur                                 \n",
      "114  Hauz-i-Shamsi                              \n",
      "115  Hauz Khas                                  \n",
      "116  Hauz Khas Complex                          \n",
      "117  Hazrat Nizamuddin Railway Station          \n",
      "118  Hazrat Nizamuddin railway station          \n",
      "119  Hijron Ka Khanqah                          \n",
      "120  Hindon Airport                             \n",
      "121  Hindustan F.C.                             \n",
      "122  History of Delhi                           \n",
      "123  Humayun's Tomb                             \n",
      "124  INA Colony                                 \n",
      "125  ISKCON Temple Delhi                        \n",
      "126  Independence Day (India)                   \n",
      "127  Inder Puri                                 \n",
      "128  India Gate                                 \n",
      "129  Indian Rebellion of 1857                   \n",
      "130  Indian independence movement               \n",
      "131  Indira Gandhi Arena                        \n",
      "132  Indira Gandhi International Airport        \n",
      "133  Indirapuram                                \n",
      "134  Indraprastha                               \n",
      "135  Inter State Bus Terminals                  \n",
      "136  Jahanpanah                                 \n",
      "137  Jahaz Mahal                                \n",
      "138  Jama Masjid, Delhi                         \n",
      "139  Jamali Kamali Mosque and Tomb              \n",
      "140  Jamia Millia Islamia University Ground     \n",
      "141  Janakpuri                                  \n",
      "142  Jangpura                                   \n",
      "143  Jantar Mantar, New Delhi                   \n",
      "144  Jawaharlal Nehru Stadium (Delhi)           \n",
      "145  Jewar Airport                              \n",
      "146  Jhilmil Colony                             \n",
      "147  Kailash Colony                             \n",
      "148  Kalkaji                                    \n",
      "149  Kamla Nagar                                \n",
      "150  Kamla Nagar, New Delhi                     \n",
      "151  Kapasheda Border, Delhi                    \n",
      "152  Karala, Delhi                              \n",
      "153  Karnail Singh Stadium                      \n",
      "154  Karol Bagh                                 \n",
      "155  Kashmiri Gate, Delhi                       \n",
      "156  Kashmiri Gate (Delhi)                      \n",
      "157  Khalji dynasty                             \n",
      "158  Khanpur, Delhi                             \n",
      "159  Khari Baoli                                \n",
      "160  Khirki Mosque                              \n",
      "161  Kirti Nagar                                \n",
      "162  Kotla Mubarakpur                           \n",
      "163  Kotwali                                    \n",
      "164  Lajpat Nagar                               \n",
      "165  Laxmi Nagar (Delhi)                        \n",
      "166  Laxmibai Nagar                             \n",
      "167  List of chief ministers of Delhi           \n",
      "168  List of cinemas in Delhi                   \n",
      "169  List of cities in India by population      \n",
      "170  List of districts of Delhi                 \n",
      "171  List of lieutenant governors of Delhi      \n",
      "172  List of parks in Delhi                     \n",
      "173  List of tourist attractions in Delhi       \n",
      "174  Lodi Colony                                \n",
      "175  Lodi dynasty                               \n",
      "176  Lotus Temple                               \n",
      "177  Lutyens' Delhi                             \n",
      "178  Major Dhyan Chand National Stadium         \n",
      "179  Malviya Nagar (Delhi)                      \n",
      "180  Mamluk dynasty (Delhi)                     \n",
      "181  Maratha Empire                             \n",
      "182  Mayapuri                                   \n",
      "183  Mayur Vihar                                \n",
      "184  Meera Bagh                                 \n",
      "185  Mehrauli                                   \n",
      "186  Metcalfe House                             \n",
      "187  Model Town (Delhi)                         \n",
      "188  Mori Gate; Delhi                           \n",
      "189  Moth ki Masjid                             \n",
      "190  Moti Bagh                                  \n",
      "191  Moti Nagar (New Delhi)                     \n",
      "192  Mughal Empire                              \n",
      "193  Municipal Corporation of Delhi             \n",
      "194  Munirka                                    \n",
      "195  Muslim conquests in the Indian subcontinent\n",
      "196  Najafgarh                                  \n",
      "197  Nangloi Jat                                \n",
      "198  Naraina                                    \n",
      "199  Narela                                     \n",
      "200  National Capital Region (India)            \n",
      "201  National Capital Territory of Delhi        \n",
      "202  National Police Memorial (India)           \n",
      "203  National War Memorial (India)              \n",
      "204  Naveen Shahdara                            \n",
      "205  Nehru Cup                                  \n",
      "206  Nehru Place                                \n",
      "207  Netaji Nagar, Delhi                        \n",
      "208  New Delhi                                  \n",
      "209  New Delhi Heroes F.C.                      \n",
      "210  New Delhi Municipal Council                \n",
      "211  New Delhi Railway Station                  \n",
      "212  New Delhi district                         \n",
      "213  New Delhi railway station                  \n",
      "214  New Friends Colony                         \n",
      "215  New Moti Bagh                              \n",
      "216  Nizamuddin Dargah                          \n",
      "217  Nizamuddin East                            \n",
      "218  Nizamuddin West                            \n",
      "219  Noida                                      \n",
      "220  North Delhi                                \n",
      "221  North Delhi district                       \n",
      "222  North East Delhi                           \n",
      "223  North East Delhi district                  \n",
      "224  North West Delhi                           \n",
      "225  North West Delhi district                  \n",
      "226  Okhla                                      \n",
      "227  Old Delhi                                  \n",
      "228  Old Delhi Railway Station                  \n",
      "229  Paharganj                                  \n",
      "230  Palam                                      \n",
      "231  Palika Bazaar                              \n",
      "232  Pandav Nagar                               \n",
      "233  Parliament of India                        \n",
      "234  Partition of India                         \n",
      "235  Paschim Vihar                              \n",
      "236  Patel Nagar                                \n",
      "237  Patparganj                                 \n",
      "238  Pitam Pura                                 \n",
      "239  Pragati Maidan                             \n",
      "240  Preet Vihar                                \n",
      "241  Prithviraj Raso                            \n",
      "242  Punjabi Bagh                               \n",
      "243  Punjabi cuisine                            \n",
      "244  Purana Qila                                \n",
      "245  Qutb Minar complex                         \n",
      "246  Raisina Hill                               \n",
      "247  Raj Ghat and associated memorials          \n",
      "248  Rajender Nagar                             \n",
      "249  Rajendra Nagar, Delhi                      \n",
      "250  Rajouri Garden                             \n",
      "251  Rajpath                                    \n",
      "252  Rama Krishna Puram                         \n",
      "253  Ramlila Maidan                             \n",
      "254  Rashtrapati Bhavan                         \n",
      "255  Red Fort                                   \n",
      "256  Republic Day (India)                       \n",
      "257  Rohini, Delhi                              \n",
      "258  Rohini Sub City                            \n",
      "259  SPM Swimming Pool Complex                  \n",
      "260  Sadar Bazaar, Delhi                        \n",
      "261  Safdarjung (Delhi)                         \n",
      "262  Safdarjung Airport                         \n",
      "263  Safdarjung Enclave                         \n",
      "264  Sagar Pur                                  \n",
      "265  Sainik Farm                                \n",
      "266  Saket (Delhi)                              \n",
      "267  Salimgarh Fort                             \n",
      "268  Sangam Vihar                               \n",
      "269  Sarai Rohilla                              \n",
      "270  Sarita Vihar                               \n",
      "271  Sarojini Nagar                             \n",
      "272  Sarvodaya Enclave                          \n",
      "273  Sayyid dynasty                             \n",
      "274  Shahdara                                   \n",
      "275  Shahdara district                          \n",
      "276  Shahpur Jat                                \n",
      "277  Shakti Nagar, Delhi                        \n",
      "278  Shalimar Bagh, Delhi                       \n",
      "279  Shastri Nagar (Delhi)                      \n",
      "280  Shastri Park                               \n",
      "281  Sher Shah Suri                             \n",
      "282  Shish Gumbad                               \n",
      "283  Shiv Ram Park                              \n",
      "284  Shivaji Place                              \n",
      "285  Shopping in Delhi                          \n",
      "286  Simla Youngs F.C.                          \n",
      "287  Siri Fort                                  \n",
      "288  Siri Fort Sports Complex                   \n",
      "289  Sonipat                                    \n",
      "290  South Delhi                                \n",
      "291  South Delhi district                       \n",
      "292  South East Delhi district                  \n",
      "293  South Extension                            \n",
      "294  South West Delhi                           \n",
      "295  South West Delhi district                  \n",
      "296  Sport in Delhi                             \n",
      "297  Sriniwaspuri                               \n",
      "298  Sultan Ghari                               \n",
      "299  Sundar Nagar, Delhi                        \n",
      "300  Sunder Nursery                             \n",
      "301  Swaminarayan Akshardham (New Delhi)        \n",
      "302  Talkatora Stadium                          \n",
      "303  Teen Murti Bhavan                          \n",
      "304  Thyagaraj Sports Complex                   \n",
      "305  Tihar Village                              \n",
      "306  Tilak Nagar (Delhi)                        \n",
      "307  Timarpur                                   \n",
      "308  Timeline of Delhi                          \n",
      "309  Tis Hazari                                 \n",
      "310  Tomara dynasty                             \n",
      "311  Tomb of Isa Khan                           \n",
      "312  Tomb of Safdar Jang                        \n",
      "313  Tourism in Delhi                           \n",
      "314  Transport in Delhi                         \n",
      "315  Tughlaq dynasty                            \n",
      "316  Tughlaqabad                                \n",
      "317  Urdu Bazaar                                \n",
      "318  Vasant Kunj                                \n",
      "319  Vasant Vihar                               \n",
      "320  Vasant Vihar, Delhi                        \n",
      "321  Vasundhara Enclave                         \n",
      "322  Viceroy of India                           \n",
      "323  Vijay Chowk                                \n",
      "324  Vikaspuri                                  \n",
      "325  Wazirabad, Delhi                           \n",
      "326  West Delhi                                 \n",
      "327  West Delhi district                        \n",
      "328  West Patel Nagar                           \n",
      "329  Yamuna Sports Complex                      \n",
      "330  Yamuna Vihar                               \n",
      "331  Yogmaya Temple                             \n"
     ]
    },
    {
     "name": "stderr",
     "output_type": "stream",
     "text": [
      "c:\\python 3.7.9\\lib\\site-packages\\ipykernel_launcher.py:4: FutureWarning: Passing a negative integer is deprecated in version 1.0 and will not be supported in future version. Instead, use None to not limit the column width.\n",
      "  after removing the cwd from sys.path.\n"
     ]
    }
   ],
   "source": [
    "pd.set_option('display.max_rows', None)\n",
    "pd.set_option('display.max_columns', None)\n",
    "pd.set_option('display.width', None)\n",
    "pd.set_option('display.max_colwidth', -1)\n",
    "\n",
    "\n",
    "print(df)"
   ]
  },
  {
   "cell_type": "code",
   "execution_count": null,
   "metadata": {},
   "outputs": [],
   "source": []
  }
 ],
 "metadata": {
  "kernelspec": {
   "display_name": "Python 3",
   "language": "python",
   "name": "python3"
  },
  "language_info": {
   "codemirror_mode": {
    "name": "ipython",
    "version": 3
   },
   "file_extension": ".py",
   "mimetype": "text/x-python",
   "name": "python",
   "nbconvert_exporter": "python",
   "pygments_lexer": "ipython3",
   "version": "3.7.9"
  }
 },
 "nbformat": 4,
 "nbformat_minor": 4
}
